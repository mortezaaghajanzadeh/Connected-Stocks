{
 "cells": [
  {
   "cell_type": "code",
   "execution_count": 3,
   "metadata": {
    "scrolled": true
   },
   "outputs": [],
   "source": [
    "import pandas as pd\n",
    "from finance_byu.fama_macbeth import fama_macbeth, fama_macbeth_parallel, fm_summary, fama_macbeth_numba\n",
    "import numpy as np"
   ]
  },
  {
   "cell_type": "code",
   "execution_count": 33,
   "metadata": {},
   "outputs": [],
   "source": [
    "path = r\"H:\\Economics\\Finance(Prof.Heidari-Aghajanzadeh)\\Data\\Psudo\\\\\""
   ]
  },
  {
   "cell_type": "code",
   "execution_count": 52,
   "metadata": {},
   "outputs": [],
   "source": [
    "df = pd.read_csv(path + \"RGWeeklyNormalzedFCAP5.1\" + \".csv\")\n",
    "df = df[['sgroup','Weeklyρ_5','WeeklySizeRatio','Weeklysize1','Weeklysize2','WeeklySameSize',\n",
    " 'WeeklyB/M1', 'WeeklyB/M2', 'WeeklySameB/M', 'Weeklyρ_5_f', 't_Week','Holder_act','WeeklyFCA*','MergeId']]\n",
    "df = df.dropna()\n",
    "df['WeeklyFCA*>Median'] = 0\n",
    "df.loc[df['WeeklyFCA*']>df['WeeklyFCA*'].median(),'WeeklyFCA*>Median'] = df.loc[df['WeeklyFCA*']>df['WeeklyFCA*'].median()]['WeeklyFCA*']\n",
    "result = fama_macbeth(df,'t_Week','Weeklyρ_5_f',['sgroup','Weeklyρ_5','WeeklySizeRatio','Weeklysize1','Weeklysize2','WeeklySameSize',\n",
    " 'WeeklyB/M1', 'WeeklyB/M2', 'WeeklySameB/M','Holder_act','WeeklyFCA*','WeeklyFCA*>Median'],intercept=True)\n",
    "t = fm_summary(result).iloc[-2:,:]\n",
    "t['sample'] = 1"
   ]
  },
  {
   "cell_type": "code",
   "execution_count": 53,
   "metadata": {},
   "outputs": [
    {
     "data": {
      "text/html": [
       "<div>\n",
       "<style scoped>\n",
       "    .dataframe tbody tr th:only-of-type {\n",
       "        vertical-align: middle;\n",
       "    }\n",
       "\n",
       "    .dataframe tbody tr th {\n",
       "        vertical-align: top;\n",
       "    }\n",
       "\n",
       "    .dataframe thead th {\n",
       "        text-align: right;\n",
       "    }\n",
       "</style>\n",
       "<table border=\"1\" class=\"dataframe\">\n",
       "  <thead>\n",
       "    <tr style=\"text-align: right;\">\n",
       "      <th></th>\n",
       "      <th>mean</th>\n",
       "      <th>std_error</th>\n",
       "      <th>tstat</th>\n",
       "      <th>sample</th>\n",
       "    </tr>\n",
       "  </thead>\n",
       "  <tbody>\n",
       "    <tr>\n",
       "      <th>WeeklyFCA*</th>\n",
       "      <td>-0.000689</td>\n",
       "      <td>0.001027</td>\n",
       "      <td>-0.671074</td>\n",
       "      <td>1</td>\n",
       "    </tr>\n",
       "    <tr>\n",
       "      <th>WeeklyFCA*&gt;Median</th>\n",
       "      <td>0.001188</td>\n",
       "      <td>0.001889</td>\n",
       "      <td>0.628699</td>\n",
       "      <td>1</td>\n",
       "    </tr>\n",
       "  </tbody>\n",
       "</table>\n",
       "</div>"
      ],
      "text/plain": [
       "                       mean  std_error     tstat  sample\n",
       "WeeklyFCA*        -0.000689   0.001027 -0.671074       1\n",
       "WeeklyFCA*>Median  0.001188   0.001889  0.628699       1"
      ]
     },
     "execution_count": 53,
     "metadata": {},
     "output_type": "execute_result"
    }
   ],
   "source": [
    "t"
   ]
  },
  {
   "cell_type": "code",
   "execution_count": 48,
   "metadata": {},
   "outputs": [
    {
     "name": "stdout",
     "output_type": "stream",
     "text": [
      "RWeeklyNormalzedFCAP5.1-Sample1.csv\n",
      "RWeeklyNormalzedFCAP5.1-Sample2.csv\n",
      "RWeeklyNormalzedFCAP5.1-Sample3.csv\n",
      "RWeeklyNormalzedFCAP5.1-Sample4.csv\n",
      "RWeeklyNormalzedFCAP5.1-Sample5.csv\n",
      "RWeeklyNormalzedFCAP5.1-Sample6.csv\n",
      "RWeeklyNormalzedFCAP5.1-Sample7.csv\n",
      "RWeeklyNormalzedFCAP5.1-Sample8.csv\n",
      "RWeeklyNormalzedFCAP5.1-Sample9.csv\n",
      "RWeeklyNormalzedFCAP5.1-Sample10.csv\n",
      "RWeeklyNormalzedFCAP5.1-Sample11.csv\n",
      "RWeeklyNormalzedFCAP5.1-Sample12.csv\n",
      "RWeeklyNormalzedFCAP5.1-Sample13.csv\n",
      "RWeeklyNormalzedFCAP5.1-Sample14.csv\n",
      "RWeeklyNormalzedFCAP5.1-Sample15.csv\n",
      "RWeeklyNormalzedFCAP5.1-Sample16.csv\n",
      "RWeeklyNormalzedFCAP5.1-Sample17.csv\n",
      "RWeeklyNormalzedFCAP5.1-Sample18.csv\n",
      "RWeeklyNormalzedFCAP5.1-Sample19.csv\n",
      "RWeeklyNormalzedFCAP5.1-Sample20.csv\n",
      "RWeeklyNormalzedFCAP5.1-Sample21.csv\n",
      "RWeeklyNormalzedFCAP5.1-Sample22.csv\n",
      "RWeeklyNormalzedFCAP5.1-Sample23.csv\n",
      "RWeeklyNormalzedFCAP5.1-Sample24.csv\n",
      "RWeeklyNormalzedFCAP5.1-Sample25.csv\n",
      "RWeeklyNormalzedFCAP5.1-Sample26.csv\n",
      "RWeeklyNormalzedFCAP5.1-Sample27.csv\n",
      "RWeeklyNormalzedFCAP5.1-Sample28.csv\n",
      "RWeeklyNormalzedFCAP5.1-Sample29.csv\n",
      "RWeeklyNormalzedFCAP5.1-Sample30.csv\n",
      "RWeeklyNormalzedFCAP5.1-Sample31.csv\n",
      "RWeeklyNormalzedFCAP5.1-Sample32.csv\n",
      "RWeeklyNormalzedFCAP5.1-Sample33.csv\n",
      "RWeeklyNormalzedFCAP5.1-Sample34.csv\n",
      "RWeeklyNormalzedFCAP5.1-Sample35.csv\n",
      "RWeeklyNormalzedFCAP5.1-Sample36.csv\n",
      "RWeeklyNormalzedFCAP5.1-Sample37.csv\n",
      "RWeeklyNormalzedFCAP5.1-Sample38.csv\n",
      "RWeeklyNormalzedFCAP5.1-Sample39.csv\n",
      "RWeeklyNormalzedFCAP5.1-Sample40.csv\n",
      "RWeeklyNormalzedFCAP5.1-Sample41.csv\n",
      "RWeeklyNormalzedFCAP5.1-Sample42.csv\n",
      "RWeeklyNormalzedFCAP5.1-Sample43.csv\n",
      "RWeeklyNormalzedFCAP5.1-Sample44.csv\n",
      "RWeeklyNormalzedFCAP5.1-Sample45.csv\n",
      "RWeeklyNormalzedFCAP5.1-Sample46.csv\n",
      "RWeeklyNormalzedFCAP5.1-Sample47.csv\n",
      "RWeeklyNormalzedFCAP5.1-Sample48.csv\n",
      "RWeeklyNormalzedFCAP5.1-Sample49.csv\n",
      "RWeeklyNormalzedFCAP5.1-Sample50.csv\n",
      "RWeeklyNormalzedFCAP5.1-Sample51.csv\n",
      "RWeeklyNormalzedFCAP5.1-Sample52.csv\n",
      "RWeeklyNormalzedFCAP5.1-Sample53.csv\n",
      "RWeeklyNormalzedFCAP5.1-Sample54.csv\n",
      "RWeeklyNormalzedFCAP5.1-Sample55.csv\n",
      "RWeeklyNormalzedFCAP5.1-Sample56.csv\n",
      "RWeeklyNormalzedFCAP5.1-Sample57.csv\n",
      "RWeeklyNormalzedFCAP5.1-Sample58.csv\n",
      "RWeeklyNormalzedFCAP5.1-Sample59.csv\n",
      "RWeeklyNormalzedFCAP5.1-Sample60.csv\n",
      "RWeeklyNormalzedFCAP5.1-Sample61.csv\n",
      "RWeeklyNormalzedFCAP5.1-Sample62.csv\n",
      "RWeeklyNormalzedFCAP5.1-Sample63.csv\n",
      "RWeeklyNormalzedFCAP5.1-Sample64.csv\n",
      "RWeeklyNormalzedFCAP5.1-Sample65.csv\n",
      "RWeeklyNormalzedFCAP5.1-Sample66.csv\n",
      "RWeeklyNormalzedFCAP5.1-Sample67.csv\n",
      "RWeeklyNormalzedFCAP5.1-Sample68.csv\n",
      "RWeeklyNormalzedFCAP5.1-Sample69.csv\n",
      "RWeeklyNormalzedFCAP5.1-Sample70.csv\n",
      "RWeeklyNormalzedFCAP5.1-Sample71.csv\n",
      "RWeeklyNormalzedFCAP5.1-Sample72.csv\n",
      "RWeeklyNormalzedFCAP5.1-Sample73.csv\n",
      "RWeeklyNormalzedFCAP5.1-Sample74.csv\n",
      "RWeeklyNormalzedFCAP5.1-Sample75.csv\n",
      "RWeeklyNormalzedFCAP5.1-Sample76.csv\n",
      "RWeeklyNormalzedFCAP5.1-Sample77.csv\n",
      "RWeeklyNormalzedFCAP5.1-Sample78.csv\n",
      "RWeeklyNormalzedFCAP5.1-Sample79.csv\n",
      "RWeeklyNormalzedFCAP5.1-Sample80.csv\n",
      "RWeeklyNormalzedFCAP5.1-Sample81.csv\n",
      "RWeeklyNormalzedFCAP5.1-Sample82.csv\n",
      "RWeeklyNormalzedFCAP5.1-Sample83.csv\n",
      "RWeeklyNormalzedFCAP5.1-Sample84.csv\n",
      "RWeeklyNormalzedFCAP5.1-Sample85.csv\n",
      "RWeeklyNormalzedFCAP5.1-Sample86.csv\n",
      "RWeeklyNormalzedFCAP5.1-Sample87.csv\n",
      "RWeeklyNormalzedFCAP5.1-Sample88.csv\n",
      "RWeeklyNormalzedFCAP5.1-Sample89.csv\n",
      "RWeeklyNormalzedFCAP5.1-Sample90.csv\n",
      "RWeeklyNormalzedFCAP5.1-Sample91.csv\n",
      "RWeeklyNormalzedFCAP5.1-Sample92.csv\n",
      "RWeeklyNormalzedFCAP5.1-Sample93.csv\n",
      "RWeeklyNormalzedFCAP5.1-Sample94.csv\n",
      "RWeeklyNormalzedFCAP5.1-Sample95.csv\n",
      "RWeeklyNormalzedFCAP5.1-Sample96.csv\n",
      "RWeeklyNormalzedFCAP5.1-Sample97.csv\n",
      "RWeeklyNormalzedFCAP5.1-Sample98.csv\n",
      "RWeeklyNormalzedFCAP5.1-Sample99.csv\n",
      "RWeeklyNormalzedFCAP5.1-Sample100.csv\n"
     ]
    }
   ],
   "source": [
    "data = pd.DataFrame()\n",
    "\n",
    "for i in range(100):\n",
    "    df = pd.read_csv(path + \"RWeeklyNormalzedFCAP5.1-Sample\" + str(i+1)+\".csv\")\n",
    "    df = df[['sgroup','Weeklyρ_5','WeeklySizeRatio','Weeklysize1','Weeklysize2','WeeklySameSize',\n",
    "     'WeeklyB/M1', 'WeeklyB/M2', 'WeeklySameB/M', 'Weeklyρ_5_f', 't_Week','Holder_act','WeeklyFCA*','MergeId']]\n",
    "    df = df.dropna()\n",
    "    df['WeeklyFCA*>Median'] = 0\n",
    "    df.loc[df['WeeklyFCA*']>df['WeeklyFCA*'].median(),'WeeklyFCA*>Median'] = df.loc[df['WeeklyFCA*']>df['WeeklyFCA*'].median()]['WeeklyFCA*']\n",
    "    result = fama_macbeth(df,'t_Week','Weeklyρ_5_f',['sgroup','Weeklyρ_5','WeeklySizeRatio','Weeklysize1','Weeklysize2','WeeklySameSize',\n",
    "     'WeeklyB/M1', 'WeeklyB/M2', 'WeeklySameB/M','Holder_act','WeeklyFCA*','WeeklyFCA*>Median'],intercept=True)\n",
    "    t = fm_summary(result).iloc[-2:,:]\n",
    "    t['sample'] = i+1\n",
    "    data = data.append(t)"
   ]
  },
  {
   "cell_type": "code",
   "execution_count": 35,
   "metadata": {},
   "outputs": [],
   "source": []
  },
  {
   "cell_type": "code",
   "execution_count": 37,
   "metadata": {},
   "outputs": [],
   "source": []
  },
  {
   "cell_type": "code",
   "execution_count": 38,
   "metadata": {},
   "outputs": [],
   "source": []
  },
  {
   "cell_type": "code",
   "execution_count": 41,
   "metadata": {},
   "outputs": [],
   "source": []
  },
  {
   "cell_type": "code",
   "execution_count": null,
   "metadata": {},
   "outputs": [],
   "source": []
  }
 ],
 "metadata": {
  "kernelspec": {
   "display_name": "Python 3",
   "language": "python",
   "name": "python3"
  },
  "language_info": {
   "codemirror_mode": {
    "name": "ipython",
    "version": 3
   },
   "file_extension": ".py",
   "mimetype": "text/x-python",
   "name": "python",
   "nbconvert_exporter": "python",
   "pygments_lexer": "ipython3",
   "version": "3.7.3"
  }
 },
 "nbformat": 4,
 "nbformat_minor": 2
}
