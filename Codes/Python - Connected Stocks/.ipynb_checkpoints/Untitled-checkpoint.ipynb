{
 "cells": [
  {
   "cell_type": "code",
   "execution_count": 1,
   "metadata": {},
   "outputs": [],
   "source": [
    "import pandas as pd"
   ]
  },
  {
   "cell_type": "code",
   "execution_count": 2,
   "metadata": {},
   "outputs": [],
   "source": [
    "path = r\"H:\\Economics\\Finance(Prof.Heidari-Aghajanzadeh)\\Data\\Connected stocks\\\\\"\n"
   ]
  },
  {
   "cell_type": "code",
   "execution_count": 71,
   "metadata": {},
   "outputs": [
    {
     "name": "stdout",
     "output_type": "stream",
     "text": [
      "7970465\n"
     ]
    }
   ],
   "source": [
    "n = path + \"NormalzedFCAP5.1\" + \".csv\"\n",
    "df = pd.read_csv(n)\n",
    "print(len(df))\n",
    "\n"
   ]
  },
  {
   "cell_type": "code",
   "execution_count": 72,
   "metadata": {},
   "outputs": [
    {
     "data": {
      "text/plain": [
       "7937882"
      ]
     },
     "execution_count": 72,
     "metadata": {},
     "output_type": "execute_result"
    }
   ],
   "source": [
    "df2 = df[~df.Weeklyρ_5.isnull()]\n",
    "len(df2)"
   ]
  },
  {
   "cell_type": "code",
   "execution_count": 77,
   "metadata": {
    "scrolled": true
   },
   "outputs": [],
   "source": [
    "df = df[~df.Weeklyρ_5.isnull()]\n",
    "assets = df.groupby('id').size().to_frame()\n",
    "assets = assets[assets[0] >14].index\n",
    "df = df[df.id.isin(assets)].reset_index(drop = True)"
   ]
  },
  {
   "cell_type": "code",
   "execution_count": 78,
   "metadata": {},
   "outputs": [
    {
     "data": {
      "text/plain": [
       "7928723"
      ]
     },
     "execution_count": 78,
     "metadata": {},
     "output_type": "execute_result"
    }
   ],
   "source": [
    "len(df2)"
   ]
  },
  {
   "cell_type": "code",
   "execution_count": 62,
   "metadata": {},
   "outputs": [],
   "source": [
    "df1 = df2[['Weeklyρ_5','id','WeeklyFCA*','WeeklyFCA','t_Week']]"
   ]
  },
  {
   "cell_type": "code",
   "execution_count": 43,
   "metadata": {},
   "outputs": [
    {
     "data": {
      "text/plain": [
       "False"
      ]
     },
     "execution_count": 43,
     "metadata": {},
     "output_type": "execute_result"
    }
   ],
   "source": [
    "15048 in assets"
   ]
  },
  {
   "cell_type": "code",
   "execution_count": 76,
   "metadata": {},
   "outputs": [
    {
     "data": {
      "text/html": [
       "<div>\n",
       "<style scoped>\n",
       "    .dataframe tbody tr th:only-of-type {\n",
       "        vertical-align: middle;\n",
       "    }\n",
       "\n",
       "    .dataframe tbody tr th {\n",
       "        vertical-align: top;\n",
       "    }\n",
       "\n",
       "    .dataframe thead th {\n",
       "        text-align: right;\n",
       "    }\n",
       "</style>\n",
       "<table border=\"1\" class=\"dataframe\">\n",
       "  <thead>\n",
       "    <tr style=\"text-align: right;\">\n",
       "      <th></th>\n",
       "      <th>Weeklyρ_5</th>\n",
       "      <th>WeeklyFCA*</th>\n",
       "    </tr>\n",
       "  </thead>\n",
       "  <tbody>\n",
       "    <tr>\n",
       "      <th>711975</th>\n",
       "      <td>-1.0</td>\n",
       "      <td>-1.640112</td>\n",
       "    </tr>\n",
       "    <tr>\n",
       "      <th>711976</th>\n",
       "      <td>-1.0</td>\n",
       "      <td>-1.640112</td>\n",
       "    </tr>\n",
       "  </tbody>\n",
       "</table>\n",
       "</div>"
      ],
      "text/plain": [
       "        Weeklyρ_5  WeeklyFCA*\n",
       "711975       -1.0   -1.640112\n",
       "711976       -1.0   -1.640112"
      ]
     },
     "execution_count": 76,
     "metadata": {},
     "output_type": "execute_result"
    }
   ],
   "source": [
    "df2[df2.id == 1916][['Weeklyρ_5','WeeklyFCA*']]"
   ]
  },
  {
   "cell_type": "code",
   "execution_count": 79,
   "metadata": {
    "scrolled": true
   },
   "outputs": [
    {
     "data": {
      "text/plain": [
       "id\n",
       "19418   -0.861924\n",
       "10238   -0.781936\n",
       "13200   -0.693610\n",
       "14086   -0.689525\n",
       "10840   -0.680661\n",
       "7519    -0.676053\n",
       "15955   -0.658054\n",
       "15919   -0.654572\n",
       "18900   -0.650058\n",
       "17235   -0.636527\n",
       "16957   -0.622844\n",
       "9396    -0.618443\n",
       "5826    -0.612227\n",
       "211     -0.611704\n",
       "17470   -0.605920\n",
       "16510   -0.595480\n",
       "12352   -0.592917\n",
       "9698    -0.589155\n",
       "10684   -0.585204\n",
       "15895   -0.581630\n",
       "10986   -0.565928\n",
       "7117    -0.565153\n",
       "11301   -0.565146\n",
       "227     -0.551522\n",
       "15681   -0.536767\n",
       "2287    -0.532640\n",
       "7163    -0.527841\n",
       "199     -0.527240\n",
       "17979   -0.526066\n",
       "7794    -0.522599\n",
       "           ...   \n",
       "12658    0.572230\n",
       "5000     0.575576\n",
       "13743    0.583411\n",
       "10022    0.583412\n",
       "2065     0.584173\n",
       "6706     0.586939\n",
       "7539     0.596084\n",
       "6463     0.598053\n",
       "5075     0.604817\n",
       "10299    0.605348\n",
       "6844     0.606523\n",
       "13057    0.616481\n",
       "1965     0.617250\n",
       "16760    0.617291\n",
       "13360    0.618516\n",
       "2739     0.618921\n",
       "6840     0.619900\n",
       "4749     0.630408\n",
       "6818     0.633886\n",
       "4758     0.636403\n",
       "16611    0.643011\n",
       "7020     0.671796\n",
       "1687     0.682484\n",
       "4181     0.686750\n",
       "10919    0.708914\n",
       "18390    0.739248\n",
       "7176     0.745655\n",
       "888      0.808637\n",
       "9833     0.816441\n",
       "4806     0.819187\n",
       "Name: Weeklyρ_5, Length: 18195, dtype: float64"
      ]
     },
     "execution_count": 79,
     "metadata": {},
     "output_type": "execute_result"
    }
   ],
   "source": [
    "df2.groupby('id').Weeklyρ_5.mean().sort_values()"
   ]
  },
  {
   "cell_type": "code",
   "execution_count": 69,
   "metadata": {
    "scrolled": true
   },
   "outputs": [],
   "source": [
    "v = df.groupby('id').Weeklyρ_5_f.mean().to_frame().merge(df.groupby('id')['WeeklyFCA*'].mean().to_frame(), on ='id')"
   ]
  },
  {
   "cell_type": "code",
   "execution_count": 70,
   "metadata": {},
   "outputs": [
    {
     "data": {
      "text/plain": [
       "<matplotlib.axes._subplots.AxesSubplot at 0x21e336181d0>"
      ]
     },
     "execution_count": 70,
     "metadata": {},
     "output_type": "execute_result"
    },
    {
     "data": {
      "image/png": "[encoded data removed]",
      "text/plain": [
       "<Figure size 432x288 with 1 Axes>"
      ]
     },
     "metadata": {
      "needs_background": "light"
     },
     "output_type": "display_data"
    }
   ],
   "source": [
    "v.plot.scatter(y = 'Weeklyρ_5_f' ,x = 'WeeklyFCA*')"
   ]
  }
 ],
 "metadata": {
  "kernelspec": {
   "display_name": "Python 3",
   "language": "python",
   "name": "python3"
  },
  "language_info": {
   "codemirror_mode": {
    "name": "ipython",
    "version": 3
   },
   "file_extension": ".py",
   "mimetype": "text/x-python",
   "name": "python",
   "nbconvert_exporter": "python",
   "pygments_lexer": "ipython3",
   "version": "3.7.3"
  }
 },
 "nbformat": 4,
 "nbformat_minor": 2
}
